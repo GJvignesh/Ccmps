{
 "cells": [
  {
   "cell_type": "code",
   "execution_count": 1,
   "metadata": {},
   "outputs": [],
   "source": [
    "import pandas as pd\n",
    "import numpy as np\n",
    "\n",
    "import matplotlib.pyplot as plt\n",
    "import seaborn as sns \n",
    "%matplotlib inline\n",
    "import warnings\n",
    "warnings.filterwarnings('ignore')\n",
    "\n",
    "from lightgbm import LGBMClassifier"
   ]
  },
  {
   "cell_type": "code",
   "execution_count": 3,
   "metadata": {},
   "outputs": [],
   "source": [
    "df = pd.read_csv(\"Desktop\\Cristano_Ronaldo_Final_v1\\data.csv\")"
   ]
  },
  {
   "cell_type": "code",
   "execution_count": 4,
   "metadata": {},
   "outputs": [
    {
     "name": "stdout",
     "output_type": "stream",
     "text": [
      "Total number of dataset is 30697\n",
      "Total number of dataset after removing duplicates is 30697\n"
     ]
    },
    {
     "data": {
      "text/html": [
       "<div>\n",
       "<style scoped>\n",
       "    .dataframe tbody tr th:only-of-type {\n",
       "        vertical-align: middle;\n",
       "    }\n",
       "\n",
       "    .dataframe tbody tr th {\n",
       "        vertical-align: top;\n",
       "    }\n",
       "\n",
       "    .dataframe thead th {\n",
       "        text-align: right;\n",
       "    }\n",
       "</style>\n",
       "<table border=\"1\" class=\"dataframe\">\n",
       "  <thead>\n",
       "    <tr style=\"text-align: right;\">\n",
       "      <th></th>\n",
       "      <th>Unnamed: 0</th>\n",
       "      <th>match_event_id</th>\n",
       "      <th>location_x</th>\n",
       "      <th>location_y</th>\n",
       "      <th>remaining_min</th>\n",
       "      <th>power_of_shot</th>\n",
       "      <th>knockout_match</th>\n",
       "      <th>game_season</th>\n",
       "      <th>remaining_sec</th>\n",
       "      <th>distance_of_shot</th>\n",
       "      <th>...</th>\n",
       "      <th>lat/lng</th>\n",
       "      <th>type_of_shot</th>\n",
       "      <th>type_of_combined_shot</th>\n",
       "      <th>match_id</th>\n",
       "      <th>team_id</th>\n",
       "      <th>remaining_min.1</th>\n",
       "      <th>power_of_shot.1</th>\n",
       "      <th>knockout_match.1</th>\n",
       "      <th>remaining_sec.1</th>\n",
       "      <th>distance_of_shot.1</th>\n",
       "    </tr>\n",
       "  </thead>\n",
       "  <tbody>\n",
       "    <tr>\n",
       "      <th>0</th>\n",
       "      <td>0</td>\n",
       "      <td>10.0</td>\n",
       "      <td>167.0</td>\n",
       "      <td>72.0</td>\n",
       "      <td>10.0</td>\n",
       "      <td>1.0</td>\n",
       "      <td>0.0</td>\n",
       "      <td>2000-01</td>\n",
       "      <td>27.0</td>\n",
       "      <td>38.0</td>\n",
       "      <td>...</td>\n",
       "      <td>45.539131, -122.651648</td>\n",
       "      <td>shot - 30</td>\n",
       "      <td>NaN</td>\n",
       "      <td>20000012</td>\n",
       "      <td>1610612747</td>\n",
       "      <td>10.0</td>\n",
       "      <td>1.0</td>\n",
       "      <td>50.608</td>\n",
       "      <td>54.2</td>\n",
       "      <td>38.0</td>\n",
       "    </tr>\n",
       "    <tr>\n",
       "      <th>1</th>\n",
       "      <td>1</td>\n",
       "      <td>12.0</td>\n",
       "      <td>-157.0</td>\n",
       "      <td>0.0</td>\n",
       "      <td>10.0</td>\n",
       "      <td>1.0</td>\n",
       "      <td>0.0</td>\n",
       "      <td>2000-01</td>\n",
       "      <td>22.0</td>\n",
       "      <td>35.0</td>\n",
       "      <td>...</td>\n",
       "      <td>45.539131, -122.651648</td>\n",
       "      <td>shot - 45</td>\n",
       "      <td>NaN</td>\n",
       "      <td>20000012</td>\n",
       "      <td>1610612747</td>\n",
       "      <td>10.0</td>\n",
       "      <td>1.0</td>\n",
       "      <td>28.800</td>\n",
       "      <td>22.0</td>\n",
       "      <td>35.0</td>\n",
       "    </tr>\n",
       "  </tbody>\n",
       "</table>\n",
       "<p>2 rows × 28 columns</p>\n",
       "</div>"
      ],
      "text/plain": [
       "   Unnamed: 0  match_event_id  location_x  location_y  remaining_min  \\\n",
       "0           0            10.0       167.0        72.0           10.0   \n",
       "1           1            12.0      -157.0         0.0           10.0   \n",
       "\n",
       "   power_of_shot  knockout_match game_season  remaining_sec  distance_of_shot  \\\n",
       "0            1.0             0.0     2000-01           27.0              38.0   \n",
       "1            1.0             0.0     2000-01           22.0              35.0   \n",
       "\n",
       "   ...                 lat/lng type_of_shot type_of_combined_shot  match_id  \\\n",
       "0  ...  45.539131, -122.651648    shot - 30                   NaN  20000012   \n",
       "1  ...  45.539131, -122.651648    shot - 45                   NaN  20000012   \n",
       "\n",
       "      team_id remaining_min.1 power_of_shot.1  knockout_match.1  \\\n",
       "0  1610612747            10.0             1.0            50.608   \n",
       "1  1610612747            10.0             1.0            28.800   \n",
       "\n",
       "  remaining_sec.1 distance_of_shot.1  \n",
       "0            54.2               38.0  \n",
       "1            22.0               35.0  \n",
       "\n",
       "[2 rows x 28 columns]"
      ]
     },
     "execution_count": 4,
     "metadata": {},
     "output_type": "execute_result"
    }
   ],
   "source": [
    "print(\"Total number of dataset is {}\".format(df.shape[0]))\n",
    "df.drop_duplicates(keep='first', inplace=True)  # Remove duplicate entries if any\n",
    "print(\"Total number of dataset after removing duplicates is {}\".format(df.shape[0]))\n",
    "df.head(2)"
   ]
  },
  {
   "cell_type": "code",
   "execution_count": 5,
   "metadata": {},
   "outputs": [],
   "source": [
    "df['match_event_id'] =  df['match_event_id'].interpolate()"
   ]
  },
  {
   "cell_type": "code",
   "execution_count": 6,
   "metadata": {},
   "outputs": [],
   "source": [
    "df.drop(['Unnamed: 0','match_id','team_name','team_id','shot_id_number'], inplace = True, axis = 1)"
   ]
  },
  {
   "cell_type": "code",
   "execution_count": 7,
   "metadata": {},
   "outputs": [],
   "source": [
    "df[['game_season', 'knockout_match','home/away','power_of_shot','lat/lng','date_of_game']] = df[['game_season','knockout_match','home/away','power_of_shot','lat/lng','date_of_game']].fillna(method='ffill')"
   ]
  },
  {
   "cell_type": "code",
   "execution_count": 8,
   "metadata": {},
   "outputs": [],
   "source": [
    "df['type_of_shot'] = df['type_of_shot'].replace(np.nan, '', regex=True)\n",
    "df['type_of_combined_shot'] = df['type_of_combined_shot'].replace(np.nan, '', regex=True)\n",
    "df['shot'] = df['type_of_shot'] + df['type_of_combined_shot']\n",
    "df.drop(['type_of_shot','type_of_combined_shot'],axis=1,inplace=True)"
   ]
  },
  {
   "cell_type": "code",
   "execution_count": 9,
   "metadata": {},
   "outputs": [],
   "source": [
    "# remaining_sec makes more sense as number of seconds should be <=60\n",
    "df.drop('remaining_sec.1', axis=1, inplace=True)\n",
    "\n",
    "# for continous values in following cases let us use mean\n",
    "df.remaining_sec.fillna(value=df.remaining_sec.mean(), inplace=True, limit=None)"
   ]
  },
  {
   "cell_type": "code",
   "execution_count": 10,
   "metadata": {},
   "outputs": [],
   "source": [
    "df['opp_team'] = df['home/away'].str[-3:]"
   ]
  },
  {
   "cell_type": "code",
   "execution_count": 11,
   "metadata": {},
   "outputs": [],
   "source": [
    "df['home/away'] = df['home/away'].str[5:-3].map(lambda x: x.strip())\n",
    "df['home/away'].replace({'@': 'away','vs.': 'home'},inplace=True)"
   ]
  },
  {
   "cell_type": "code",
   "execution_count": 12,
   "metadata": {},
   "outputs": [],
   "source": [
    "# On the same lines of remaining_sec for remainig_min\n",
    "df.drop('remaining_min.1', axis=1, inplace=True )\n",
    "\n",
    "# Fill missing values using mean\n",
    "df.remaining_min.fillna(value=df.remaining_min.mean(), inplace=True, limit=None)"
   ]
  },
  {
   "cell_type": "code",
   "execution_count": 13,
   "metadata": {},
   "outputs": [],
   "source": [
    "df.drop(['power_of_shot.1','knockout_match.1'], axis=1, inplace=True)"
   ]
  },
  {
   "cell_type": "code",
   "execution_count": 14,
   "metadata": {},
   "outputs": [],
   "source": [
    "df[\"date_of_game\"] = pd.to_datetime(df[\"date_of_game\"])\n",
    "df[\"year\"] = df[\"date_of_game\"].apply(lambda x:x.year)\n",
    "df[\"day\"] = df[\"date_of_game\"].apply(lambda x:x.day)\n",
    "df[\"month\"] = df[\"date_of_game\"].apply(lambda x:x.month)\n",
    "df.drop(['date_of_game'],axis=1,inplace=True)"
   ]
  },
  {
   "cell_type": "code",
   "execution_count": 15,
   "metadata": {},
   "outputs": [],
   "source": [
    "# both of them is almost same, we can take one df['distance_of_shot'] and drop other\n",
    "df.drop('distance_of_shot.1', axis = 1, inplace = True)\n",
    "\n",
    "# Fill missing value in distance_of_shot\n",
    "#df.distance_of_shot.fillna(value = df['distance_of_shot'].mean(), inplace = True)"
   ]
  },
  {
   "cell_type": "code",
   "execution_count": 16,
   "metadata": {},
   "outputs": [],
   "source": [
    "df['area_of_shot'][df['shot_basics'] == 'Left Corner']=df['area_of_shot'][df['shot_basics'] == 'Left Corner'].fillna('Left Side(L)')\n",
    "df['area_of_shot'][df['shot_basics'] == 'Right Corner']=df['area_of_shot'][df['shot_basics'] == 'Right Corner'].fillna('Right Side(R)')\n",
    "df['area_of_shot'][df['shot_basics'] == 'Goal Area']=df['area_of_shot'][df['shot_basics'] == 'Goal Area'].fillna('Center(C)')\n",
    "df['area_of_shot'][df['shot_basics'] == 'Mid Ground Line']=df['area_of_shot'][df['shot_basics'] == 'Mid Ground Line'].fillna('Mid Ground(G)')"
   ]
  },
  {
   "cell_type": "code",
   "execution_count": 17,
   "metadata": {},
   "outputs": [],
   "source": [
    "df['location_y'] = df['location_y'].apply(lambda x: \"{:.0f}\".format(x) if not pd.isnull(x) else x)\n",
    "df['location_x'] = df['location_x'].apply(lambda x: \"{:.0f}\".format(x) if not pd.isnull(x) else x)"
   ]
  },
  {
   "cell_type": "code",
   "execution_count": 18,
   "metadata": {},
   "outputs": [],
   "source": [
    "d = df[['location_x','location_y','area_of_shot']]\n",
    "\n",
    "d1 = d.dropna(subset = ['location_x','location_y'])\n",
    "d2 = d.dropna(subset = ['location_y','area_of_shot'])\n",
    "d3 = d.dropna(subset = ['area_of_shot','location_x'])"
   ]
  },
  {
   "cell_type": "code",
   "execution_count": 19,
   "metadata": {},
   "outputs": [],
   "source": [
    "from sklearn.preprocessing import LabelEncoder\n",
    "\n",
    "label_encoder = LabelEncoder()\n",
    "label_encoder.fit(d2['area_of_shot'])\n",
    "d2['area_of_shot'] = label_encoder.transform(d2['area_of_shot'])"
   ]
  },
  {
   "cell_type": "code",
   "execution_count": 20,
   "metadata": {},
   "outputs": [],
   "source": [
    "label_encoder.fit(d3['area_of_shot'])\n",
    "d3['area_of_shot'] = label_encoder.transform(d3['area_of_shot'])"
   ]
  },
  {
   "cell_type": "code",
   "execution_count": 21,
   "metadata": {},
   "outputs": [],
   "source": [
    "nonempty_area = d1.dropna(axis=0, how='any', subset=['area_of_shot'])\n",
    "empty_area = d1[~d1.index.isin(nonempty_area.index)]\n",
    "\n",
    "nonempty_x = d2.dropna(axis=0, how='any', subset=['location_x'])\n",
    "empty_x = d2[~d2.index.isin(nonempty_x.index)]\n",
    "\n",
    "nonempty_y = d3.dropna(axis=0, how='any', subset=['location_y'])\n",
    "empty_y = d3[~d3.index.isin(nonempty_x.index)]"
   ]
  },
  {
   "cell_type": "code",
   "execution_count": 22,
   "metadata": {},
   "outputs": [],
   "source": [
    "empty_area.drop(['area_of_shot'],inplace=True,axis=1)\n",
    "empty_x.drop(['location_x'],inplace=True,axis=1)\n",
    "empty_y.drop(['location_y'],inplace=True,axis=1)"
   ]
  },
  {
   "cell_type": "code",
   "execution_count": 23,
   "metadata": {},
   "outputs": [],
   "source": [
    "from sklearn.linear_model import LogisticRegression \n",
    "lr = LogisticRegression ()\n",
    "\n",
    "from sklearn.ensemble import RandomForestRegressor\n",
    "rfr = RandomForestRegressor()"
   ]
  },
  {
   "cell_type": "code",
   "execution_count": 24,
   "metadata": {},
   "outputs": [],
   "source": [
    "nonempty_area_labels = nonempty_area['area_of_shot']\n",
    "nonempty_area.drop(['area_of_shot'],axis=1,inplace=True)\n",
    "\n",
    "nonempty_x_labels = nonempty_x['location_x']\n",
    "nonempty_x.drop(['location_x'],axis=1,inplace=True)\n",
    "\n",
    "nonempty_y_labels = nonempty_y['location_y']\n",
    "nonempty_y.drop(['location_y'],axis=1,inplace=True)"
   ]
  },
  {
   "cell_type": "code",
   "execution_count": 25,
   "metadata": {},
   "outputs": [],
   "source": [
    "lr.fit(nonempty_area,nonempty_area_labels)\n",
    "pred1 = lr.predict(empty_area)\n",
    "\n",
    "rfr.fit(nonempty_x,nonempty_x_labels)\n",
    "pred2 = rfr.predict(empty_x)\n",
    "\n",
    "rfr.fit(nonempty_y,nonempty_y_labels)\n",
    "pred3 = rfr.predict(empty_y)"
   ]
  },
  {
   "cell_type": "code",
   "execution_count": 26,
   "metadata": {},
   "outputs": [],
   "source": [
    "empty_area['area_of_shot'] = pred1\n",
    "d1.drop(['area_of_shot'],axis=1,inplace=True)\n",
    "\n",
    "empty_x['location_x'] = pred2\n",
    "d2.drop(['location_x'],axis=1,inplace=True)\n",
    "\n",
    "empty_y['location_y'] = pred3\n",
    "d3.drop(['location_y'],axis=1,inplace=True)"
   ]
  },
  {
   "cell_type": "code",
   "execution_count": 27,
   "metadata": {},
   "outputs": [],
   "source": [
    "final1 = pd.merge(d, empty_area, left_index=True, right_index=True,how='outer')\n",
    "final1 = final1.replace(np.nan, '', regex=True)\n",
    "final1 = final1['area_of_shot_y']\n",
    "\n",
    "final2 = pd.merge(d, empty_x, left_index=True, right_index=True,how='outer')\n",
    "final2 = final2.replace(np.nan, '', regex=True)\n",
    "final2 = final2['location_x_y']\n",
    "\n",
    "final3 = pd.merge(d, empty_y, left_index=True, right_index=True,how='outer')\n",
    "final3 = final3.replace(np.nan, '', regex=True)\n",
    "final3 = final3['location_y_y']"
   ]
  },
  {
   "cell_type": "code",
   "execution_count": 28,
   "metadata": {},
   "outputs": [],
   "source": [
    "df = pd.merge(df, final1, left_index=True, right_index=True,how='outer')"
   ]
  },
  {
   "cell_type": "code",
   "execution_count": 29,
   "metadata": {},
   "outputs": [],
   "source": [
    "#df = pd.merge(df, final1, left_index=True, right_index=True,how='outer')\n",
    "df['area_of_shot'] = df['area_of_shot'].replace(np.nan, '', regex=True)\n",
    "df['area_of_shot'] = df['area_of_shot']+df['area_of_shot_y']\n",
    "df['area_of_shot'] = df['area_of_shot'].replace(r'^\\s*$', np.nan, regex=True)\n",
    "df.drop(['area_of_shot_y'],axis=1,inplace=True)"
   ]
  },
  {
   "cell_type": "code",
   "execution_count": 30,
   "metadata": {},
   "outputs": [],
   "source": [
    "df = pd.merge(df, final2, left_index=True, right_index=True,how='outer')\n",
    "df['location_x'] = df['location_x'].replace(np.nan, '', regex=True)"
   ]
  },
  {
   "cell_type": "code",
   "execution_count": 31,
   "metadata": {},
   "outputs": [],
   "source": [
    "df['location_x'] = df['location_x'].astype(str)\n",
    "df['location_x_y'] = df['location_x_y'].astype(str)\n",
    "\n",
    "df['location_x'] = df[['location_x', 'location_x_y']].apply(lambda x: ''.join(x), axis=1)"
   ]
  },
  {
   "cell_type": "code",
   "execution_count": 32,
   "metadata": {},
   "outputs": [],
   "source": [
    "df['location_x'] = df['location_x'].replace(r'^\\s*$', np.nan, regex=True)\n",
    "df['location_x'] = df['location_x'].astype(float)\n",
    "df['location_x'] = round(df['location_x'])\n",
    "df.drop(['location_x_y'],axis=1,inplace=True)"
   ]
  },
  {
   "cell_type": "code",
   "execution_count": 33,
   "metadata": {},
   "outputs": [],
   "source": [
    "df = pd.merge(df, final3, left_index=True, right_index=True,how='outer')\n",
    "df['location_y'] = df['location_y'].replace(np.nan, '', regex=True)\n",
    "\n",
    "df['location_y'] = df['location_y'].astype(str)\n",
    "df['location_y_y'] = df['location_y_y'].astype(str)\n",
    "\n",
    "df['location_y'] = df[['location_y', 'location_y_y']].apply(lambda x: ''.join(x), axis=1)\n",
    "\n",
    "df['location_y'] = df['location_y'].replace(np.nan, '', regex=True)\n",
    "df['location_y'] = df['location_y'].replace(r'^\\s*$', np.nan, regex=True)\n",
    "df['location_y'] = df['location_y'].astype(float)\n",
    "df['location_y'] = round(df['location_y'])\n",
    "df.drop(['location_y_y'],axis=1,inplace=True)"
   ]
  },
  {
   "cell_type": "code",
   "execution_count": 34,
   "metadata": {},
   "outputs": [],
   "source": [
    "def segregate(x):\n",
    "    l = x[\"lat/lng\"].split(\", \")\n",
    "    return pd.Series(l)\n",
    "df[[\"lat\",\"long\"]] = df.apply(segregate, axis=1)\n",
    "df[\"lat\"] = pd.to_numeric(df[\"lat\"])\n",
    "df[\"long\"] = pd.to_numeric(df[\"long\"])"
   ]
  },
  {
   "cell_type": "code",
   "execution_count": 35,
   "metadata": {},
   "outputs": [],
   "source": [
    "def _split_columns(array):\n",
    "    if array.ndim == 1:\n",
    "        return array[0], array[1] # just a single row\n",
    "    else:\n",
    "        return array[:,0], array[:,1]"
   ]
  },
  {
   "cell_type": "code",
   "execution_count": 36,
   "metadata": {},
   "outputs": [],
   "source": [
    "R = 6378137.0\n",
    "R_km = R/1000\n",
    "\n",
    "def haversine(lat,lon):\n",
    "    \"\"\" \n",
    "    Calculate the great-circle distance bewteen points_a and points_b\n",
    "    points_a and points_b can be a single points or lists of points\n",
    "    \"\"\"\n",
    "    points_a=[42.982923, -71.446094]\n",
    "    \n",
    "    lat1, lon1 = _split_columns(np.radians(points_a))\n",
    "    lat2, lon2 = (np.radians(lat)),(np.radians(lon))\n",
    "\n",
    "    # calculate haversine\n",
    "    lat = lat2 - lat1\n",
    "    lon = lon2 - lon1\n",
    "    d = np.sin(lat * 0.5) ** 2 + np.cos(lat1) * np.cos(lat2) * np.sin(lon * 0.5) ** 2\n",
    "    h = 2 * R_km * np.arcsin(np.sqrt(d))\n",
    "    return h"
   ]
  },
  {
   "cell_type": "code",
   "execution_count": 37,
   "metadata": {},
   "outputs": [],
   "source": [
    "df['dist'] = haversine(df['lat'],df['long'])\n",
    "df['dist'] = round(df['dist'])"
   ]
  },
  {
   "cell_type": "code",
   "execution_count": 38,
   "metadata": {},
   "outputs": [],
   "source": [
    "df.loc[ df['dist'] == 0, 'dist_group']  = 0\n",
    "df.loc[(df['dist'] > 0) & (df['dist'] <= 1000), 'dist_group'] = 1\n",
    "df.loc[(df['dist'] > 1000) & (df['dist'] <= 2000), 'dist_group'] = 2\n",
    "df.loc[(df['dist'] > 2000) & (df['dist'] <= 3000), 'dist_group'] = 3\n",
    "df.loc[ df['dist'] > 3000, 'dist_group'] = 4 ;"
   ]
  },
  {
   "cell_type": "code",
   "execution_count": 40,
   "metadata": {},
   "outputs": [],
   "source": [
    "d = df[['distance_of_shot','shot_basics','range_of_shot']]\n",
    "\n",
    "d1 = d.dropna(subset = ['distance_of_shot','shot_basics'])\n",
    "d2 = d.dropna(subset = ['range_of_shot','shot_basics'])\n",
    "d3 = d.dropna(subset = ['range_of_shot','distance_of_shot'])"
   ]
  },
  {
   "cell_type": "code",
   "execution_count": 41,
   "metadata": {},
   "outputs": [],
   "source": [
    "label_encoder.fit(d1['shot_basics'])\n",
    "d1['shot_basics'] = label_encoder.transform(d1['shot_basics'])\n",
    "\n",
    "label_encoder.fit(d2['shot_basics'])\n",
    "d2['shot_basics'] = label_encoder.transform(d2['shot_basics'])\n",
    "\n",
    "label_encoder.fit(d2['range_of_shot'])\n",
    "d2['range_of_shot'] = label_encoder.transform(d2['range_of_shot'])\n",
    "\n",
    "label_encoder.fit(d3['range_of_shot'])\n",
    "d3['range_of_shot'] = label_encoder.transform(d3['range_of_shot'])"
   ]
  },
  {
   "cell_type": "code",
   "execution_count": 42,
   "metadata": {},
   "outputs": [],
   "source": [
    "nonempty_range = d1.dropna(axis=0, how='any', subset=['range_of_shot'])\n",
    "empty_range = d1[~d1.index.isin(nonempty_range.index)]\n",
    "\n",
    "nonempty_dist = d2.dropna(axis=0, how='any', subset=['distance_of_shot'])\n",
    "empty_dist = d2[~d2.index.isin(nonempty_dist.index)]\n",
    "\n",
    "nonempty_shot = d3.dropna(axis=0, how='any', subset=['shot_basics'])\n",
    "empty_shot = d3[~d3.index.isin(nonempty_shot.index)]"
   ]
  },
  {
   "cell_type": "code",
   "execution_count": 43,
   "metadata": {},
   "outputs": [],
   "source": [
    "empty_range.drop(['range_of_shot'],inplace=True,axis=1)\n",
    "empty_dist.drop(['distance_of_shot'],inplace=True,axis=1)\n",
    "empty_shot.drop(['shot_basics'],inplace=True,axis=1)"
   ]
  },
  {
   "cell_type": "code",
   "execution_count": 44,
   "metadata": {},
   "outputs": [],
   "source": [
    "nonempty_range_labels = nonempty_range['range_of_shot']\n",
    "nonempty_range.drop(['range_of_shot'],axis=1,inplace=True)\n",
    "\n",
    "nonempty_dist_labels = nonempty_dist['distance_of_shot']\n",
    "nonempty_dist.drop(['distance_of_shot'],axis=1,inplace=True)\n",
    "\n",
    "nonempty_shot_labels = nonempty_shot['shot_basics']\n",
    "nonempty_shot.drop(['shot_basics'],axis=1,inplace=True)"
   ]
  },
  {
   "cell_type": "code",
   "execution_count": 45,
   "metadata": {},
   "outputs": [],
   "source": [
    "lr.fit(nonempty_range,nonempty_range_labels)\n",
    "pred1 = lr.predict(empty_range)\n",
    "\n",
    "rfr.fit(nonempty_dist,nonempty_dist_labels)\n",
    "pred2 = rfr.predict(empty_dist)\n",
    "\n",
    "lr.fit(nonempty_shot,nonempty_shot_labels)\n",
    "pred3 = lr.predict(empty_shot)"
   ]
  },
  {
   "cell_type": "code",
   "execution_count": 46,
   "metadata": {},
   "outputs": [],
   "source": [
    "empty_range['range_of_shot'] = pred1\n",
    "d1.drop(['range_of_shot'],axis=1,inplace=True)\n",
    "\n",
    "empty_dist['distance_of_shot'] = pred2\n",
    "d2.drop(['distance_of_shot'],axis=1,inplace=True)\n",
    "\n",
    "empty_shot['shot_basics'] = pred3\n",
    "d3.drop(['shot_basics'],axis=1,inplace=True)"
   ]
  },
  {
   "cell_type": "code",
   "execution_count": 47,
   "metadata": {},
   "outputs": [],
   "source": [
    "final1 = pd.merge(d, empty_range, left_index=True, right_index=True,how='outer')\n",
    "final1 = final1.replace(np.nan, '', regex=True)\n",
    "final1 = final1['range_of_shot_y']\n",
    "\n",
    "final2 = pd.merge(d, empty_dist, left_index=True, right_index=True,how='outer')\n",
    "final2 = final2.replace(np.nan, '', regex=True)\n",
    "final2 = final2['distance_of_shot_y']\n",
    "\n",
    "final3 = pd.merge(d, empty_shot, left_index=True, right_index=True,how='outer')\n",
    "final3 = final3.replace(np.nan, '', regex=True)\n",
    "final3 = final3['shot_basics_y']"
   ]
  },
  {
   "cell_type": "code",
   "execution_count": 48,
   "metadata": {},
   "outputs": [],
   "source": [
    "df = pd.merge(df, final1, left_index=True, right_index=True,how='outer')\n",
    "df['range_of_shot'] = df['range_of_shot'].replace(np.nan, '', regex=True)\n",
    "df['range_of_shot'] = df['range_of_shot']+df['range_of_shot_y']\n",
    "df['range_of_shot'] = df['range_of_shot'].replace(r'^\\s*$', np.nan, regex=True)\n",
    "df.drop(['range_of_shot_y'],axis=1,inplace=True)"
   ]
  },
  {
   "cell_type": "code",
   "execution_count": 49,
   "metadata": {},
   "outputs": [],
   "source": [
    "df = pd.merge(df, final3, left_index=True, right_index=True,how='outer')\n",
    "df['shot_basics'] = df['shot_basics'].replace(np.nan, '', regex=True)\n",
    "df['shot_basics'] = df['shot_basics']+df['shot_basics_y']\n",
    "df['shot_basics'] = df['shot_basics'].replace(r'^\\s*$', np.nan, regex=True)\n",
    "df.drop(['shot_basics_y'],axis=1,inplace=True)"
   ]
  },
  {
   "cell_type": "code",
   "execution_count": 50,
   "metadata": {},
   "outputs": [],
   "source": [
    "df = pd.merge(df, final2, left_index=True, right_index=True,how='outer')\n",
    "df['distance_of_shot'] = df['distance_of_shot'].replace(np.nan, '', regex=True)"
   ]
  },
  {
   "cell_type": "code",
   "execution_count": 51,
   "metadata": {},
   "outputs": [],
   "source": [
    "df['distance_of_shot'] = df['distance_of_shot'].astype(str)\n",
    "df['distance_of_shot_y'] = df['distance_of_shot_y'].astype(str)\n",
    "\n",
    "df['distance_of_shot'] = df[['distance_of_shot', 'distance_of_shot_y']].apply(lambda x: ''.join(x), axis=1)"
   ]
  },
  {
   "cell_type": "code",
   "execution_count": 52,
   "metadata": {},
   "outputs": [],
   "source": [
    "df['distance_of_shot'] = df['distance_of_shot'].replace(r'^\\s*$', np.nan, regex=True)\n",
    "df['distance_of_shot'] = df['distance_of_shot'].astype(float)\n",
    "df['distance_of_shot'] = round(df['distance_of_shot'])\n",
    "df.drop(['distance_of_shot_y'],axis=1,inplace=True)"
   ]
  },
  {
   "cell_type": "code",
   "execution_count": 53,
   "metadata": {},
   "outputs": [],
   "source": [
    "df.drop(['lat/lng'],axis=1,inplace=True)"
   ]
  },
  {
   "cell_type": "code",
   "execution_count": 54,
   "metadata": {},
   "outputs": [],
   "source": [
    "m1 = df['distance_of_shot'].mean()\n",
    "df['distance_of_shot'] = df['distance_of_shot'].fillna(m1)\n",
    "\n",
    "m2 = df['area_of_shot'].mode()\n",
    "df['area_of_shot'] = df['area_of_shot'].fillna(m2[0])\n",
    "\n",
    "m3 = df['range_of_shot'].mode()\n",
    "df['range_of_shot'] = df['range_of_shot'].fillna(m3[0])\n",
    "\n",
    "m4 = df['location_x'].mean()\n",
    "df['location_x'] = df['location_x'].fillna(m4)\n",
    "\n",
    "m5 = df['location_y'].mean()\n",
    "df['location_y'] = df['location_y'].fillna(m5)\n",
    "\n",
    "m6 = df['shot_basics'].mode()\n",
    "df['shot_basics'] = df['shot_basics'].fillna(m6[0])"
   ]
  },
  {
   "cell_type": "code",
   "execution_count": 55,
   "metadata": {},
   "outputs": [],
   "source": [
    "df[\"add_loc\"] = df[\"location_x\"] + df[\"location_y\"]\n",
    "df[\"sub_loc\"] = df[\"location_x\"] - df[\"location_y\"]"
   ]
  },
  {
   "cell_type": "code",
   "execution_count": 56,
   "metadata": {},
   "outputs": [],
   "source": [
    "df = df.reset_index()\n",
    "df['index'] +=1\n",
    "df = df.rename(columns={\"index\": \"shot_id_number\"})"
   ]
  },
  {
   "cell_type": "code",
   "execution_count": 57,
   "metadata": {},
   "outputs": [],
   "source": [
    "from sklearn.preprocessing import LabelEncoder"
   ]
  },
  {
   "cell_type": "code",
   "execution_count": 62,
   "metadata": {},
   "outputs": [],
   "source": [
    "columns = ['shot','opp_team','home/away','area_of_shot','shot_basics','range_of_shot','year','month','game_season']\n",
    "\n",
    "def encoder(df):\n",
    "    for col in columns:\n",
    "        label_encoder = LabelEncoder()\n",
    "        label_encoder.fit(df[col])\n",
    "        df[col] = label_encoder.transform(df[col])\n",
    "    return df"
   ]
  },
  {
   "cell_type": "code",
   "execution_count": 63,
   "metadata": {},
   "outputs": [],
   "source": [
    "df = encoder(df)"
   ]
  },
  {
   "cell_type": "code",
   "execution_count": 66,
   "metadata": {},
   "outputs": [],
   "source": [
    "df.drop(['game_season'],axis=1,inplace=True)"
   ]
  },
  {
   "cell_type": "code",
   "execution_count": 68,
   "metadata": {},
   "outputs": [],
   "source": [
    "df.to_csv('df.csv',index=False)"
   ]
  },
  {
   "cell_type": "code",
   "execution_count": 69,
   "metadata": {},
   "outputs": [
    {
     "name": "stderr",
     "output_type": "stream",
     "text": [
      "[NbConvertApp] Converting notebook zs.ipynb to script\n",
      "[NbConvertApp] Writing 14284 bytes to zs.py\n"
     ]
    }
   ],
   "source": [
    "!jupyter nbconvert --to script zs.ipynb"
   ]
  },
  {
   "cell_type": "code",
   "execution_count": null,
   "metadata": {},
   "outputs": [],
   "source": []
  }
 ],
 "metadata": {
  "kernelspec": {
   "display_name": "Python 3",
   "language": "python",
   "name": "python3"
  },
  "language_info": {
   "codemirror_mode": {
    "name": "ipython",
    "version": 3
   },
   "file_extension": ".py",
   "mimetype": "text/x-python",
   "name": "python",
   "nbconvert_exporter": "python",
   "pygments_lexer": "ipython3",
   "version": "3.6.7"
  }
 },
 "nbformat": 4,
 "nbformat_minor": 2
}
